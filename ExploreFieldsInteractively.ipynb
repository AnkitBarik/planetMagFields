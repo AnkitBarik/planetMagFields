{
 "cells": [
  {
   "cell_type": "markdown",
   "id": "e69bf42e-c63e-4a8b-91b0-8774435692d6",
   "metadata": {},
   "source": [
    "# Interactive Exploration of Planetary Magnetic Fields\n",
    "\n",
    "##This Jupyter notebook is designed to offer an interactive exploration of planetary magnetic fields, leveraging the capabilities of the `planetMagFields` package. Users can generate plots of the radial magnetic field morphology and spectrum for all planets for which the package has models.\n",
    "\n",
    "### Getting Started\n",
    "\n",
    "Before diving into the interactive plots, ensure you have installed all necessary packages and dependencies. This notebook requires `matplotlib`, `numpy`, and `planetMagFields` among others. Install them using pip if you haven't already:\n",
    "\n",
    "```bash\n",
    "pip install matplotlib numpy planetMagFields\n",
    "```\n",
    "\n",
    "### Overview\n",
    "\n",
    "The `planetMagFields` package provides detailed models of planetary magnetic fields, allowing for in-depth analysis and visualization. This notebook facilitates:\n",
    "\n",
    "- **Extraction of Planet Names**: Dynamically retrieve the list of planets available in the `planetMagFields` package.\n",
    "- **Model Selection**: Choose from various magnetic field models for each planet.\n",
    "- **Interactive Plots**: Generate and interact with plots showing the magnetic field morphology and spectrum at different radial distances.\n",
    "\n",
    "### How to Use This Notebook\n",
    "\n",
    "1. **Extract Planet Names and Models**: Run the provided script to list all planets available in the `planetMagFields` database.\n",
    "2. **Select a Planet and Model**: Use the interactive widgets to select a planet and its corresponding magnetic field model.\n",
    "3. **Visualization**: Visualize the magnetic field's morphology and spectrum based on your selections."
   ]
  },
  {
   "cell_type": "markdown",
   "id": "2adb337c-7226-4f7e-b8b0-a9eb694f5f37",
   "metadata": {},
   "source": [
    "## Import necessary modules"
   ]
  },
  {
   "cell_type": "code",
   "execution_count": 1,
   "id": "5d99e877-4a26-4838-bd0f-68f415c103d4",
   "metadata": {},
   "outputs": [],
   "source": [
    "import matplotlib.pyplot as plt\n",
    "from ipywidgets import interact, interactive, fixed, interact_manual\n",
    "import IPython.display as ipd\n",
    "import ipywidgets as widgets\n",
    "from planetmagfields import *\n",
    "import ipywidgets as widgets\n",
    "from ipywidgets import interactive, VBox\n",
    "import re\n",
    "from InteractiveMag import *"
   ]
  },
  {
   "cell_type": "markdown",
   "id": "e2164d05-1f2f-49ac-9b7b-767126798ce4",
   "metadata": {},
   "source": [
    "## Extracting Planet Names & Models"
   ]
  },
  {
   "cell_type": "code",
   "execution_count": 2,
   "id": "72c0506a-bdb3-46f4-9886-f294990009c1",
   "metadata": {},
   "outputs": [
    {
     "name": "stdout",
     "output_type": "stream",
     "text": [
      "All available panets and models are:\n",
      "Mercury : ['Mercury_anderson2012', 'Mercury_thebault2018', 'Mercury_wardinski2019']\n",
      "Earth : ['Earth_igrf13']\n",
      "Jupiter : ['Jupiter_jrm09', 'Jupiter_jrm33', 'Jupiter_vip4']\n",
      "Saturn : ['Saturn_cassini11', 'Saturn_cassini11+', 'Saturn_cassinisoi']\n",
      "Uranus : ['Uranus_connerny1987']\n",
      "Neptune : ['Neptune_connerny1991']\n",
      "Ganymede : ['Ganymede_kivelson2002']\n"
     ]
    }
   ],
   "source": [
    "planet_names = extract_planet_names_from_file()\n",
    "print('All available panets and models are:')\n",
    "planet_model_names = extract_models_for_planets(planet_names)\n",
    "model_names = extract_only_model_names(planet_model_names)"
   ]
  },
  {
   "cell_type": "markdown",
   "id": "84658859-c7ed-4060-9fc4-db4b811a512f",
   "metadata": {},
   "source": [
    "## Create Widgets - Nothing to Change, Just Run!"
   ]
  },
  {
   "cell_type": "code",
   "execution_count": 3,
   "id": "1e19cd58-fdc7-477a-b029-fbf990a7f2ad",
   "metadata": {},
   "outputs": [],
   "source": [
    "# Create a widget for selecting the background color\n",
    "background_selector = widgets.RadioButtons(\n",
    "    options=['Dark', 'Light'],\n",
    "    description='Background:',\n",
    "    disabled=False\n",
    ")\n",
    "\n",
    "# Create dropdowns for planet and model selection\n",
    "planet_dropdown = widgets.Dropdown(options=planet_names, description='Planet:')\n",
    "model_dropdown = widgets.Dropdown(options=model_names, description='Model:')\n",
    "\n",
    "# Set the slider range and step size for the radial distance 'r'\n",
    "r_slider = widgets.FloatSlider(value=0.5, min=0.01, max=1, step=0.1, description='Radial level:')"
   ]
  },
  {
   "cell_type": "markdown",
   "id": "9ab8196f-6ba4-41f8-8feb-4b67a09a7ded",
   "metadata": {},
   "source": [
    "## Plot and Explore Planetary Magnetic Fields"
   ]
  },
  {
   "cell_type": "code",
   "execution_count": 4,
   "id": "1f29c2f8-c82a-43da-b5c9-af689b1c70de",
   "metadata": {},
   "outputs": [
    {
     "data": {
      "application/vnd.jupyter.widget-view+json": {
       "model_id": "2b36da70428b45d2be73803fe49c1139",
       "version_major": 2,
       "version_minor": 0
      },
      "text/plain": [
       "interactive(children=(Dropdown(description='Planet:', options=('Mercury', 'Earth', 'Jupiter', 'Saturn', 'Uranu…"
      ]
     },
     "metadata": {},
     "output_type": "display_data"
    }
   ],
   "source": [
    "# Use 'interactive' to create a widget for the function with the dropdowns, slider, and background selector\n",
    "widget = interactive(plot_intercat_mag_r, name=planet_dropdown, r=r_slider, model=model_dropdown, background=background_selector)\n",
    "\n",
    "display(widget)"
   ]
  },
  {
   "cell_type": "markdown",
   "id": "d6de7623-cbb9-4c48-8bdd-3892526143ef",
   "metadata": {},
   "source": [
    "## Plot Figure Once Happy "
   ]
  },
  {
   "cell_type": "code",
   "execution_count": null,
   "id": "2bdf02ac-1ee3-4ad5-968d-e33278f26986",
   "metadata": {},
   "outputs": [],
   "source": [
    "plt.savefig('test1.png', dpi=600)"
   ]
  }
 ],
 "metadata": {
  "kernelspec": {
   "display_name": "Python 3 (ipykernel)",
   "language": "python",
   "name": "python3"
  },
  "language_info": {
   "codemirror_mode": {
    "name": "ipython",
    "version": 3
   },
   "file_extension": ".py",
   "mimetype": "text/x-python",
   "name": "python",
   "nbconvert_exporter": "python",
   "pygments_lexer": "ipython3",
   "version": "3.10.10"
  }
 },
 "nbformat": 4,
 "nbformat_minor": 5
}
